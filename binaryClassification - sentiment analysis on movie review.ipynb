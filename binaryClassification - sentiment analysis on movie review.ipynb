{
 "cells": [
  {
   "cell_type": "code",
   "execution_count": 79,
   "metadata": {
    "collapsed": true
   },
   "outputs": [],
   "source": [
    "#https://github.com/SrinidhiRaghavan/AI-Sentiment-Analysis-on-IMDB-Dataset/blob/master/driver_3.py"
   ]
  },
  {
   "cell_type": "code",
   "execution_count": 80,
   "metadata": {
    "collapsed": true
   },
   "outputs": [],
   "source": [
    "import pandas as pd"
   ]
  },
  {
   "cell_type": "code",
   "execution_count": 81,
   "metadata": {
    "collapsed": true
   },
   "outputs": [],
   "source": [
    "imdbData = pd.read_csv(\"C://Users/583175/.jupyter/imdb_tr.csv\", header=0, encoding = 'ISO-8859-1')"
   ]
  },
  {
   "cell_type": "code",
   "execution_count": 82,
   "metadata": {
    "collapsed": true
   },
   "outputs": [],
   "source": [
    "reviews = imdbData['text']"
   ]
  },
  {
   "cell_type": "code",
   "execution_count": 84,
   "metadata": {
    "collapsed": true
   },
   "outputs": [
    {
     "data": {
      "text/plain": [
       "0        first think another Disney movie, might good, ...\n",
       "1        Put aside Dr. House repeat missed, Desperate H...\n",
       "2        big fan Stephen King's work, film made even gr...\n",
       "3        watched horrid thing TV. Needless say one movi...\n",
       "4        truly enjoyed film. acting terrific plot. Jeff...\n",
       "5        memory \"The Last Hunt\" stuck since saw 1956 13...\n",
       "6        Shakespeare fan, appreciate Ken Branagh done b...\n",
       "7        privilege watching Scarface big screen beautif...\n",
       "8        real classic. shipload sailors trying get town...\n",
       "9        Serials short subjects originally shown theate...\n",
       "10       strange sex comedy there`s little comedy whole...\n",
       "11       many problems film, worst continuity; re-editi...\n",
       "12       Rosie wasted lot TV time talking Tainos super ...\n",
       "13       Man, people got chill. movie artistic genius. ...\n",
       "14       great movie could Soylent Green. scenes people...\n",
       "15       Wonderful family drama/comedy starring MacClai...\n",
       "16       \"Ko tamo peva\" one best films ever saw. tragic...\n",
       "17       quite long time life, either like film, liked ...\n",
       "18       \"Kolchak\" TV series really didn't fit category...\n",
       "19       It's rare find literary work adequately transl...\n",
       "20       awful, awful! old room mate used watch junk dr...\n",
       "21       mom recently become addicted show, laughing bu...\n",
       "22       okay, plain dumb. bad horror/comedy film. read...\n",
       "23       film mesmerizing beauty creativity. artist's p...\n",
       "24       Filmfour going lot better little snot film the...\n",
       "25       60s (1999) D: Mark Piznarski. Josh Hamilton, J...\n",
       "26       show suck? Unfortunately, really question, dou...\n",
       "27       Sometimes want laugh. Don't you? analyzing, cr...\n",
       "28       anti-bush jokes get really easy do, show like ...\n",
       "29       others noted, excellent Hammer-style film, see...\n",
       "                               ...                        \n",
       "24970    almost ideal romantic anime! MUST SEE AGES! En...\n",
       "24971    Unfortunately, film long unavailable (as poste...\n",
       "24972    **1/2 Diane Keaton farce.<br /><br />Someone t...\n",
       "24973    Film looking glass see world new light. Good N...\n",
       "24974    empty lack lustre rendition classic novel. wis...\n",
       "24975    movie good example extreme lack good writers d...\n",
       "24976    movie really great flick something affects us ...\n",
       "24977    Darkling interesting entertaining film F. Murr...\n",
       "24978    Marlon Brando Frank Sinatra HATED film years f...\n",
       "24979    2004, liked it. became stupid. suggests kids b...\n",
       "24980    avoid making type film future. film interestin...\n",
       "24981    Wow... 5 hours Riget. Lars continues great com...\n",
       "24982    Marvelous James Stewart, Vera Miles vehicle. m...\n",
       "24983    characters depth-less rip offs. you've seen ch...\n",
       "24984    countless talking-animal films past, majority ...\n",
       "24985    absurdist dark comedy Belgium. Shot perfectly ...\n",
       "24986    nice see Suraj Barjatya back best at.A story w...\n",
       "24987    movie poorly written, poorly acted predictable...\n",
       "24988    unpretentious Horror film probably destined be...\n",
       "24989    saw Saving Grace right came video. Since it's ...\n",
       "24990    Taking old collection stories poses challenge ...\n",
       "24991    movie made want become director, Michelle Rodr...\n",
       "24992    video thing. think fourth attempt managed watc...\n",
       "24993    almost typical Lynch. However, makes film slig...\n",
       "24994    really must caught different film rest comment...\n",
       "24995    kid 50's 60's anything connected Disney defini...\n",
       "24996    course reading review seen film already. 'Raja...\n",
       "24997    read \"There's Girl Soup\" came Peter Sellers's ...\n",
       "24998    film quite boring. snippets naked flesh tossed...\n",
       "24999    Although film somewhat filled eighties cheese ...\n",
       "Name: text, Length: 25000, dtype: object"
      ]
     },
     "execution_count": 84,
     "metadata": {},
     "output_type": "execute_result"
    }
   ],
   "source": [
    "reviews"
   ]
  },
  {
   "cell_type": "code",
   "execution_count": 128,
   "metadata": {},
   "outputs": [
    {
     "data": {
      "text/plain": [
       "'Put aside Dr. House repeat missed, Desperate Housewives (new) watch one. don\\'t know exactly plagued movie. never thought I\\'d say this, want 15 minutes fame back.<br /><br />Script, Direction, can\\'t say. recognized stable actors (the usual suspects), thought Herbert Marshall class addition sat good cheesy flick. Boy, wrong. Dullsville.<br /><br />My favorite parts: \"office girl\" makes 029 keypunch puts cards 087 sorter. LOL @ \"the computer\". I\\'d like someone identify next device - 477 ? It\\'s even dinosaur\\'s time.<br /><br />And dinosaurs don\\'t much time waste.'"
      ]
     },
     "execution_count": 128,
     "metadata": {},
     "output_type": "execute_result"
    }
   ],
   "source": [
    "reviews[1]"
   ]
  },
  {
   "cell_type": "code",
   "execution_count": 139,
   "metadata": {
    "collapsed": true
   },
   "outputs": [],
   "source": [
    "import re"
   ]
  },
  {
   "cell_type": "code",
   "execution_count": 145,
   "metadata": {
    "collapsed": true
   },
   "outputs": [],
   "source": [
    "REPLACE_NO_SPACE = re.compile(\"(\\.)|(\\;)|(\\:)|(\\!)|(\\')|(\\?)|(\\,)|(\\\")|(\\()|(\\))|(\\[)|(\\])|(\\d+)\")"
   ]
  },
  {
   "cell_type": "code",
   "execution_count": 146,
   "metadata": {
    "collapsed": true
   },
   "outputs": [],
   "source": [
    "NO_SPACE = \"\""
   ]
  },
  {
   "cell_type": "code",
   "execution_count": 165,
   "metadata": {
    "collapsed": true
   },
   "outputs": [],
   "source": [
    "preProcessedText = REPLACE_NO_SPACE.sub(NO_SPACE, \"Hello, My name is John. I'm working in google.\")"
   ]
  },
  {
   "cell_type": "code",
   "execution_count": 166,
   "metadata": {},
   "outputs": [
    {
     "name": "stdout",
     "output_type": "stream",
     "text": [
      "Hello My name is John Im working in google\n"
     ]
    }
   ],
   "source": [
    "print(preProcessedText)"
   ]
  },
  {
   "cell_type": "code",
   "execution_count": 85,
   "metadata": {
    "collapsed": true
   },
   "outputs": [],
   "source": [
    "polarity = imdbData['polarity']"
   ]
  },
  {
   "cell_type": "code",
   "execution_count": 86,
   "metadata": {
    "collapsed": true
   },
   "outputs": [
    {
     "data": {
      "text/plain": [
       "0        1\n",
       "1        0\n",
       "2        1\n",
       "3        0\n",
       "4        1\n",
       "5        1\n",
       "6        0\n",
       "7        1\n",
       "8        1\n",
       "9        1\n",
       "10       0\n",
       "11       0\n",
       "12       0\n",
       "13       1\n",
       "14       1\n",
       "15       1\n",
       "16       1\n",
       "17       1\n",
       "18       1\n",
       "19       1\n",
       "20       0\n",
       "21       1\n",
       "22       1\n",
       "23       1\n",
       "24       0\n",
       "25       0\n",
       "26       0\n",
       "27       1\n",
       "28       0\n",
       "29       0\n",
       "        ..\n",
       "24970    1\n",
       "24971    1\n",
       "24972    0\n",
       "24973    1\n",
       "24974    0\n",
       "24975    0\n",
       "24976    1\n",
       "24977    0\n",
       "24978    1\n",
       "24979    0\n",
       "24980    0\n",
       "24981    1\n",
       "24982    1\n",
       "24983    0\n",
       "24984    1\n",
       "24985    1\n",
       "24986    1\n",
       "24987    0\n",
       "24988    1\n",
       "24989    1\n",
       "24990    1\n",
       "24991    1\n",
       "24992    0\n",
       "24993    1\n",
       "24994    0\n",
       "24995    0\n",
       "24996    1\n",
       "24997    0\n",
       "24998    0\n",
       "24999    1\n",
       "Name: polarity, Length: 25000, dtype: int64"
      ]
     },
     "execution_count": 86,
     "metadata": {},
     "output_type": "execute_result"
    }
   ],
   "source": [
    "polarity"
   ]
  },
  {
   "cell_type": "code",
   "execution_count": 87,
   "metadata": {
    "collapsed": true
   },
   "outputs": [],
   "source": [
    "import sklearn"
   ]
  },
  {
   "cell_type": "code",
   "execution_count": 88,
   "metadata": {
    "collapsed": true
   },
   "outputs": [],
   "source": [
    "from sklearn.model_selection import train_test_split"
   ]
  },
  {
   "cell_type": "code",
   "execution_count": 89,
   "metadata": {
    "collapsed": true
   },
   "outputs": [],
   "source": [
    "features = reviews\n",
    "labels = polarity"
   ]
  },
  {
   "cell_type": "code",
   "execution_count": 90,
   "metadata": {
    "collapsed": true
   },
   "outputs": [],
   "source": [
    "train, test, train_labels, test_labels = train_test_split(features,\n",
    "                                                          labels,\n",
    "                                                          test_size=0.10,\n",
    "                                                          random_state=42)"
   ]
  },
  {
   "cell_type": "code",
   "execution_count": 92,
   "metadata": {
    "collapsed": true
   },
   "outputs": [],
   "source": [
    "from sklearn.feature_extraction.text import CountVectorizer"
   ]
  },
  {
   "cell_type": "code",
   "execution_count": 102,
   "metadata": {
    "collapsed": true
   },
   "outputs": [],
   "source": [
    "vectorizer = CountVectorizer()\n",
    "vectorizerTr = vectorizer.fit(train)\n",
    "vectorizerTe = vectorizer.fit(test)"
   ]
  },
  {
   "cell_type": "code",
   "execution_count": 103,
   "metadata": {
    "collapsed": true
   },
   "outputs": [],
   "source": [
    "trainMatrix = vectorizerTr.transform(train)\n",
    "testMatrix = vectorizerTe.transform(test)"
   ]
  },
  {
   "cell_type": "code",
   "execution_count": 104,
   "metadata": {},
   "outputs": [
    {
     "data": {
      "text/plain": [
       "<22500x28404 sparse matrix of type '<class 'numpy.int64'>'\n",
       "\twith 2273780 stored elements in Compressed Sparse Row format>"
      ]
     },
     "execution_count": 104,
     "metadata": {},
     "output_type": "execute_result"
    }
   ],
   "source": [
    "trainMatrix"
   ]
  },
  {
   "cell_type": "code",
   "execution_count": 105,
   "metadata": {},
   "outputs": [
    {
     "data": {
      "text/plain": [
       "<2500x28404 sparse matrix of type '<class 'numpy.int64'>'\n",
       "\twith 265260 stored elements in Compressed Sparse Row format>"
      ]
     },
     "execution_count": 105,
     "metadata": {},
     "output_type": "execute_result"
    }
   ],
   "source": [
    "testMatrix"
   ]
  },
  {
   "cell_type": "code",
   "execution_count": 106,
   "metadata": {},
   "outputs": [
    {
     "name": "stdout",
     "output_type": "stream",
     "text": [
      "<bound method CountVectorizer.get_feature_names of CountVectorizer(analyzer='word', binary=False, decode_error='strict',\n",
      "        dtype=<class 'numpy.int64'>, encoding='utf-8', input='content',\n",
      "        lowercase=True, max_df=1.0, max_features=None, min_df=1,\n",
      "        ngram_range=(1, 1), preprocessor=None, stop_words=None,\n",
      "        strip_accents=None, token_pattern='(?u)\\\\b\\\\w\\\\w+\\\\b',\n",
      "        tokenizer=None, vocabulary=None)>\n"
     ]
    }
   ],
   "source": [
    "print(vectorizer.get_feature_names)\n",
    "#print(trainMatrix.toarray())"
   ]
  },
  {
   "cell_type": "code",
   "execution_count": 107,
   "metadata": {
    "collapsed": true
   },
   "outputs": [],
   "source": [
    "from sklearn.linear_model import SGDClassifier"
   ]
  },
  {
   "cell_type": "code",
   "execution_count": 108,
   "metadata": {
    "collapsed": true
   },
   "outputs": [],
   "source": [
    "clf = SGDClassifier(loss=\"hinge\", penalty=\"l1\", max_iter=20)"
   ]
  },
  {
   "cell_type": "code",
   "execution_count": 109,
   "metadata": {},
   "outputs": [
    {
     "data": {
      "text/plain": [
       "SGDClassifier(alpha=0.0001, average=False, class_weight=None, epsilon=0.1,\n",
       "       eta0=0.0, fit_intercept=True, l1_ratio=0.15,\n",
       "       learning_rate='optimal', loss='hinge', max_iter=20, n_iter=None,\n",
       "       n_jobs=1, penalty='l1', power_t=0.5, random_state=None,\n",
       "       shuffle=True, tol=None, verbose=0, warm_start=False)"
      ]
     },
     "execution_count": 109,
     "metadata": {},
     "output_type": "execute_result"
    }
   ],
   "source": [
    "clf.fit(trainMatrix, train_labels)"
   ]
  },
  {
   "cell_type": "code",
   "execution_count": 112,
   "metadata": {
    "collapsed": true
   },
   "outputs": [
    {
     "data": {
      "text/plain": [
       "4484     0\n",
       "11558    1\n",
       "16900    1\n",
       "8936     0\n",
       "10782    0\n",
       "23277    0\n",
       "2412     0\n",
       "7247     0\n",
       "6777     1\n",
       "15601    1\n",
       "24459    1\n",
       "2425     0\n",
       "16983    1\n",
       "10356    0\n",
       "15429    1\n",
       "24683    0\n",
       "13469    0\n",
       "9893     1\n",
       "9279     1\n",
       "5215     0\n",
       "14944    0\n",
       "1215     1\n",
       "9757     0\n",
       "5339     0\n",
       "5456     1\n",
       "17300    1\n",
       "18478    0\n",
       "3426     0\n",
       "606      1\n",
       "23250    1\n",
       "        ..\n",
       "24233    1\n",
       "18942    1\n",
       "8666     1\n",
       "6396     1\n",
       "19769    0\n",
       "20939    0\n",
       "17568    0\n",
       "6420     1\n",
       "5051     1\n",
       "5311     1\n",
       "2433     1\n",
       "23333    0\n",
       "769      1\n",
       "1685     1\n",
       "8322     1\n",
       "16023    0\n",
       "11363    1\n",
       "14423    1\n",
       "21962    1\n",
       "4426     1\n",
       "16850    0\n",
       "6265     1\n",
       "22118    1\n",
       "11284    1\n",
       "11964    1\n",
       "21575    1\n",
       "5390     0\n",
       "860      0\n",
       "15795    1\n",
       "23654    1\n",
       "Name: polarity, Length: 22500, dtype: int64"
      ]
     },
     "execution_count": 112,
     "metadata": {},
     "output_type": "execute_result"
    }
   ],
   "source": [
    "train_labels"
   ]
  },
  {
   "cell_type": "code",
   "execution_count": 113,
   "metadata": {
    "collapsed": true
   },
   "outputs": [
    {
     "data": {
      "text/plain": [
       "6868     1\n",
       "24016    0\n",
       "9668     1\n",
       "13640    0\n",
       "14018    0\n",
       "7488     1\n",
       "5804     1\n",
       "12909    0\n",
       "3386     0\n",
       "9567     0\n",
       "21423    1\n",
       "3503     0\n",
       "6657     0\n",
       "19192    1\n",
       "2518     1\n",
       "13361    0\n",
       "21135    0\n",
       "21080    0\n",
       "6492     1\n",
       "6891     0\n",
       "7752     0\n",
       "8614     0\n",
       "6649     1\n",
       "2227     0\n",
       "12060    0\n",
       "19122    0\n",
       "9622     1\n",
       "12279    0\n",
       "16447    0\n",
       "423      1\n",
       "        ..\n",
       "2492     0\n",
       "742      1\n",
       "24144    1\n",
       "17349    0\n",
       "20163    0\n",
       "23783    1\n",
       "17281    0\n",
       "17978    1\n",
       "3073     1\n",
       "20905    1\n",
       "1393     0\n",
       "14395    1\n",
       "7191     1\n",
       "16946    1\n",
       "15903    0\n",
       "7606     1\n",
       "19148    0\n",
       "20011    1\n",
       "19852    0\n",
       "15907    0\n",
       "907      1\n",
       "22650    0\n",
       "7917     1\n",
       "4104     1\n",
       "18824    0\n",
       "20854    1\n",
       "15308    1\n",
       "13238    1\n",
       "21567    1\n",
       "11393    0\n",
       "Name: polarity, Length: 2500, dtype: int64"
      ]
     },
     "execution_count": 113,
     "metadata": {},
     "output_type": "execute_result"
    }
   ],
   "source": [
    "test_labels"
   ]
  },
  {
   "cell_type": "code",
   "execution_count": 116,
   "metadata": {
    "collapsed": true
   },
   "outputs": [],
   "source": [
    "testOutput = clf.predict(testMatrix)"
   ]
  },
  {
   "cell_type": "code",
   "execution_count": 123,
   "metadata": {},
   "outputs": [
    {
     "data": {
      "text/plain": [
       "array([1, 0, 1, ..., 1, 1, 0], dtype=int64)"
      ]
     },
     "execution_count": 123,
     "metadata": {},
     "output_type": "execute_result"
    }
   ],
   "source": [
    "testOutput"
   ]
  },
  {
   "cell_type": "code",
   "execution_count": 119,
   "metadata": {
    "collapsed": true
   },
   "outputs": [],
   "source": [
    "from sklearn.metrics import accuracy_score"
   ]
  },
  {
   "cell_type": "code",
   "execution_count": 120,
   "metadata": {
    "collapsed": true
   },
   "outputs": [],
   "source": [
    "accuracy = accuracy_score(testOutput, test_labels)"
   ]
  },
  {
   "cell_type": "code",
   "execution_count": 121,
   "metadata": {},
   "outputs": [
    {
     "data": {
      "text/plain": [
       "0.85519999999999996"
      ]
     },
     "execution_count": 121,
     "metadata": {},
     "output_type": "execute_result"
    }
   ],
   "source": [
    "accuracy"
   ]
  },
  {
   "cell_type": "code",
   "execution_count": 167,
   "metadata": {
    "collapsed": true
   },
   "outputs": [],
   "source": [
    "from sklearn.metrics import confusion_matrix\n",
    "from sklearn.metrics import classification_report"
   ]
  },
  {
   "cell_type": "code",
   "execution_count": 168,
   "metadata": {
    "collapsed": true
   },
   "outputs": [],
   "source": [
    "confMatrix = confusion_matrix(testOutput, test_labels)"
   ]
  },
  {
   "cell_type": "code",
   "execution_count": 172,
   "metadata": {},
   "outputs": [
    {
     "name": "stdout",
     "output_type": "stream",
     "text": [
      "[[1096  184]\n",
      " [ 178 1042]]\n"
     ]
    }
   ],
   "source": [
    "print(confMatrix)"
   ]
  },
  {
   "cell_type": "code",
   "execution_count": 170,
   "metadata": {
    "collapsed": true
   },
   "outputs": [],
   "source": [
    "clfReport = classification_report(testOutput, test_labels)"
   ]
  },
  {
   "cell_type": "code",
   "execution_count": 173,
   "metadata": {},
   "outputs": [
    {
     "name": "stdout",
     "output_type": "stream",
     "text": [
      "             precision    recall  f1-score   support\n",
      "\n",
      "          0       0.86      0.86      0.86      1280\n",
      "          1       0.85      0.85      0.85      1220\n",
      "\n",
      "avg / total       0.86      0.86      0.86      2500\n",
      "\n"
     ]
    }
   ],
   "source": [
    "print(clfReport)"
   ]
  },
  {
   "cell_type": "code",
   "execution_count": 124,
   "metadata": {
    "collapsed": true
   },
   "outputs": [],
   "source": [
    "negReview = \"The movie was really boring and I hate it\"\n",
    "posReview = \"The movie was great and I loved it. Everyone should watch it\"\n",
    "bothReviews = [\"The movie was really boring and I hate it\", \n",
    "               \"The movie was great and I loved it. Everyone should watch it\",\n",
    "              \"The second part of the movie was not interesting as it was in the first part.\"]\n",
    "\n",
    "posReview = [posReview]\n",
    "negReview = [negReview]"
   ]
  },
  {
   "cell_type": "code",
   "execution_count": 125,
   "metadata": {
    "collapsed": true
   },
   "outputs": [],
   "source": [
    "posReviewMatrix = vectorizer.transform(posReview)\n",
    "negReviewMatrix = vectorizer.transform(negReview)\n",
    "bothReviewMatrix = vectorizer.transform(bothReviews)"
   ]
  },
  {
   "cell_type": "code",
   "execution_count": 126,
   "metadata": {
    "collapsed": true
   },
   "outputs": [],
   "source": [
    "sentimentOutput = clf.predict(bothReviewMatrix)"
   ]
  },
  {
   "cell_type": "code",
   "execution_count": 127,
   "metadata": {},
   "outputs": [
    {
     "name": "stdout",
     "output_type": "stream",
     "text": [
      "[0 1 0]\n"
     ]
    }
   ],
   "source": [
    "print(sentimentOutput)"
   ]
  }
 ],
 "metadata": {
  "kernelspec": {
   "display_name": "Python 2",
   "language": "python",
   "name": "python2"
  },
  "language_info": {
   "codemirror_mode": {
    "name": "ipython",
    "version": 2
   },
   "file_extension": ".py",
   "mimetype": "text/x-python",
   "name": "python",
   "nbconvert_exporter": "python",
   "pygments_lexer": "ipython2",
   "version": "2.7.13"
  }
 },
 "nbformat": 4,
 "nbformat_minor": 2
}
